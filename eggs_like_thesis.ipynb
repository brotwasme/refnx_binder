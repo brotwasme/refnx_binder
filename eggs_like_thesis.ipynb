{
 "cells": [
  {
   "cell_type": "code",
   "execution_count": 1,
   "metadata": {},
   "outputs": [
    {
     "name": "stdout",
     "output_type": "stream",
     "text": [
      "csv\n",
      "cvs-collecting\n"
     ]
    }
   ],
   "source": [
    "from refnx.dataset import Data1D\n",
    "from refnx.dataset import ReflectDataset\n",
    "import refnx\n",
    "import data_in\n",
    "data = data_in.data_in('d2o/29553_54.dat')\n",
    "#print(data)\n",
    "# dataset = data # ...\n",
    "data = Data1D(data) \n",
    "#print(data)"
   ]
  },
  {
   "cell_type": "code",
   "execution_count": 2,
   "metadata": {},
   "outputs": [
    {
     "name": "stdout",
     "output_type": "stream",
     "text": [
      "ReflectModel(<make_egg.bsla_thesis object at 0x0000020BC33E2208>, name='', scale=Parameter(value=1.0, name='scale', vary=False, bounds=Interval(lb=-np.inf, ub=np.inf), constraint=None), bkg=Parameter(value=1e-07, name='bkg', vary=False, bounds=Interval(lb=-np.inf, ub=np.inf), constraint=None), dq=Parameter(value=5.0, name='dq - resolution', vary=False, bounds=Interval(lb=-np.inf, ub=np.inf), constraint=None), threads=-1, quad_order=17)\n"
     ]
    }
   ],
   "source": [
    "from make_egg import bsla_thesis\n",
    "bt = bsla_thesis()\n",
    "# need all setp to varry\n",
    "bt.interface_protein_solvent.setp(vary=True, bounds=(11, 40))\n",
    "bt.protein_length.setp(vary=True, bounds=(25, 55))\n",
    "bt.number_of_water_molecules.setp(vary=True, bounds=(1, 10000))\n",
    "bt.interface_width_air_solvent.setp(vary=True, bounds=(0.1, 30))\n",
    "bt.interface_width_protein_solvent.setp(vary=True, bounds=(0, 5))\n",
    "bt.sld_of_protein.setp(vary=True, bounds=(1.92, 6.21))\n",
    "bt.d2o_to_h2o_ratio.setp(vary=True, bounds=(0, 1))\n",
    "from refnx.reflect import ReflectModel\n",
    "model = ReflectModel(bt)\n",
    "print(model)"
   ]
  },
  {
   "cell_type": "code",
   "execution_count": 3,
   "metadata": {
    "scrolled": false
   },
   "outputs": [],
   "source": [
    "from refnx.analysis import Transform, CurveFitter, Objective\n",
    "obj = Objective(model,data)\n",
    "fitter = CurveFitter(obj)\n",
    "fitter.fit('differential_evolution');"
   ]
  },
  {
   "cell_type": "code",
   "execution_count": 4,
   "metadata": {
    "scrolled": false
   },
   "outputs": [
    {
     "name": "stderr",
     "output_type": "stream",
     "text": [
      "No handles with labels found to put in legend.\n"
     ]
    },
    {
     "data": {
      "text/plain": [
       "<matplotlib.legend.Legend at 0x20bc33afd30>"
      ]
     },
     "execution_count": 4,
     "metadata": {},
     "output_type": "execute_result"
    },
    {
     "data": {
      "image/png": "[encoded data removed]",
      "text/plain": [
       "<Figure size 432x288 with 1 Axes>"
      ]
     },
     "metadata": {
      "needs_background": "light"
     },
     "output_type": "display_data"
    }
   ],
   "source": [
    "import matplotlib.pyplot as plt\n",
    "#%matplotlib notebook\n",
    "obj.plot()\n",
    "plt.xlabel('Q')\n",
    "plt.yscale('log')\n",
    "plt.xscale('log')\n",
    "plt.ylabel('logR')\n",
    "plt.legend()"
   ]
  },
  {
   "cell_type": "code",
   "execution_count": 5,
   "metadata": {},
   "outputs": [
    {
     "name": "stdout",
     "output_type": "stream",
     "text": [
      "________________________________________________________________________________\n",
      "Parameters:     'bsla'     \n",
      "<Parameter:'bsla - interface_air_protein', value=0 (fixed)  , bounds=[-inf, inf]>\n",
      "<Parameter:'bsla - interface_protein_solvent', value=38.3268 +/- 1.63e+03, bounds=[11, 40]>\n",
      "<Parameter:'bsla - protein_length', value=54.0014 +/- 1.12e+03, bounds=[25, 55]>\n",
      "<Parameter:'bsla - number_of_water_molecules', value=9698.59 +/- 1.18e+06, bounds=[1, 10000]>\n",
      "<Parameter:'bsla - interface_width_air_solvent', value=7.92764  +/- 320 , bounds=[0.1, 30]>\n",
      "<Parameter:'bsla - interface_width_protein_solvent', value=3.01868 +/- 2.78e-11, bounds=[0, 5]>\n",
      "<Parameter:'bsla - sld_of_protein', value=1.92042 +/- 3.45e+04, bounds=[1.92, 6.21]>\n",
      "<Parameter:'bsla - d2o_h2o_ratio', value=0.999851 +/- 4.97e+03, bounds=[0, 1]>\n"
     ]
    }
   ],
   "source": [
    "print(bt.parameters)"
   ]
  },
  {
   "cell_type": "code",
   "execution_count": null,
   "metadata": {},
   "outputs": [],
   "source": []
  }
 ],
 "metadata": {
  "kernelspec": {
   "display_name": "Python 3",
   "language": "python",
   "name": "python3"
  },
  "language_info": {
   "codemirror_mode": {
    "name": "ipython",
    "version": 3
   },
   "file_extension": ".py",
   "mimetype": "text/x-python",
   "name": "python",
   "nbconvert_exporter": "python",
   "pygments_lexer": "ipython3",
   "version": "3.7.3"
  }
 },
 "nbformat": 4,
 "nbformat_minor": 2
}
